{
 "cells": [
  {
   "cell_type": "code",
   "execution_count": null,
   "metadata": {},
   "outputs": [],
   "source": [
    "URL = 'https://www.hepdata.net/record/resource/997020?view=true'\n",
    "FITTING_SVC='https://us-central1-personalstuff-309012.cloudfunctions.net'\n",
    "MAX_WORKERS = 1\n",
    "assert URL is not None\n",
    "assert FITTING_SVC is not None\n",
    "assert MAX_WORKERS is not None\n",
    "\n",
    "import os\n",
    "os.environ['MPLCONFIGDIR'] = os.environ['HOME']\n",
    "\n",
    "import requests\n",
    "import json\n",
    "import re\n",
    "import glob\n",
    "from joblib import Parallel, delayed\n",
    "from tqdm import tqdm_notebook as tqdm\n",
    "import time\n",
    "import numpy as np\n",
    "import array\n",
    "from shapely.geometry.polygon import Polygon\n",
    "from descartes import PolygonPatch\n",
    "\n",
    "import os\n",
    "os.environ['MPLCONFIGDIR'] = os.environ['HOME']\n",
    "\n",
    "import matplotlib.pyplot as plt\n",
    "from plotting import harvest_results, make_plot, apply_decorations\n",
    "\n",
    "plt.style.use('atlas')\n",
    "\n",
    "!rm -rf results\n",
    "!curl -s {URL} |tar -xzf -\n",
    "!mkdir -p results"
   ]
  },
  {
   "cell_type": "code",
   "execution_count": null,
   "metadata": {},
   "outputs": [],
   "source": [
    "def func(data):\n",
    "    filename = data['filename']\n",
    "    region = data['region']\n",
    "    m = re.compile(\"sbottom_(\\d+)_(\\d+)_(\\d+)\").search(filename).group(0)\n",
    "    outname = 'results/region{}.result.{}.json'.format(region,m)\n",
    "    for i in range(10):\n",
    "        try:\n",
    "            d = requests.post(\n",
    "                '{}/region{}'.format(FITTING_SVC,region),\n",
    "                data = open(filename), headers = {'Content-Type': 'application/json'}\n",
    "            ).json()\n",
    "            json.dump(d,open(outname,'w'))\n",
    "            break\n",
    "        except:\n",
    "            pass#retry"
   ]
  },
  {
   "cell_type": "code",
   "execution_count": null,
   "metadata": {
    "scrolled": false
   },
   "outputs": [],
   "source": [
    "%matplotlib notebook\n",
    "fig,ax = plt.subplots(1,1)\n",
    "fig.set_size_inches(9.33,7)\n",
    "apply_decorations(ax,label = 'Open Likelihood (in progress)')"
   ]
  },
  {
   "cell_type": "code",
   "execution_count": null,
   "metadata": {},
   "outputs": [],
   "source": [
    "for x in glob.glob('results/*.json'):\n",
    "    os.unlink(x)\n",
    "cA = [{'region': 'A', 'filename': f} for f in glob.glob('RegionA/patch*_60.json')]\n",
    "cC = [{'region': 'C', 'filename': f} for f in glob.glob('RegionC/patch*_60.json')]\n",
    "configs = cA[:] + cC[:]\n",
    "# np.random.shuffle(configs)\n",
    "\n",
    "import time\n",
    "import concurrent.futures\n",
    "fig.canvas.draw()\n",
    "\n",
    "with concurrent.futures.ThreadPoolExecutor(max_workers=MAX_WORKERS) as executor:\n",
    "    for i,_ in enumerate(tqdm(executor.map(func, configs),total = len(configs))):\n",
    "        if i > 10 and i % 5 == 0:\n",
    "            make_plot(ax,label = 'Open Likelihood (in progress)', color = 'steelblue', showPoints = True)\n",
    "            fig.canvas.draw()\n",
    "        time.sleep(.005)\n",
    "make_plot(ax, label = 'Open Likelihood', color = 'gold', showPoints = False)\n"
   ]
  },
  {
   "cell_type": "code",
   "execution_count": null,
   "metadata": {},
   "outputs": [],
   "source": [
    "make_plot(ax, label = 'Open Likelihood', color = 'gold', showPoints = False)"
   ]
  },
  {
   "cell_type": "code",
   "execution_count": null,
   "metadata": {},
   "outputs": [],
   "source": []
  }
 ],
 "metadata": {
  "kernelspec": {
   "display_name": "Python 3",
   "language": "python",
   "name": "python3"
  },
  "language_info": {
   "codemirror_mode": {
    "name": "ipython",
    "version": 3
   },
   "file_extension": ".py",
   "mimetype": "text/x-python",
   "name": "python",
   "nbconvert_exporter": "python",
   "pygments_lexer": "ipython3",
   "version": "3.7.10"
  }
 },
 "nbformat": 4,
 "nbformat_minor": 2
}
